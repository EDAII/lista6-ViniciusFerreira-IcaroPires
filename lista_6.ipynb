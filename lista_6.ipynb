{
 "cells": [
  {
   "cell_type": "code",
   "execution_count": 1,
   "metadata": {},
   "outputs": [],
   "source": [
    "import matplotlib.pyplot as plt\n",
    "\n",
    "def update_image(image):\n",
    "    row_labels = range(nrows)\n",
    "    col_labels = ['A', 'B', 'C', 'D', 'E', 'F', 'G', 'H', 'I']\n",
    "    plt.matshow(image)\n",
    "    plt.xticks(range(ncols), col_labels)\n",
    "    plt.yticks(range(nrows), row_labels)\n",
    "    plt.show()"
   ]
  },
  {
   "cell_type": "code",
   "execution_count": 2,
   "metadata": {},
   "outputs": [],
   "source": [
    "def build_fence(list_height_boards):\n",
    "    for counter, height in enumerate(list_height_boards):\n",
    "        image[(9-height):9, counter] = 0.5"
   ]
  },
  {
   "cell_type": "code",
   "execution_count": 6,
   "metadata": {},
   "outputs": [
    {
     "data": {
      "image/png": "[encoded data removed]",
      "text/plain": [
       "<Figure size 288x288 with 1 Axes>"
      ]
     },
     "metadata": {
      "needs_background": "light"
     },
     "output_type": "display_data"
    }
   ],
   "source": [
    "import numpy as np\n",
    "\n",
    "# Make a 9x9 grid...\n",
    "nrows, ncols = 9,9\n",
    "image = np.zeros(nrows*ncols)\n",
    "\n",
    "# Set every other cell to a random number (this would be your data)\n",
    "#image[::2] = np.random.random(nrows*ncols //2 + 1)\n",
    "#image[:] = 0.5\n",
    "\n",
    "# Reshape things into a 9x9 grid.\n",
    "image = image.reshape((nrows, ncols))\n",
    "\n",
    "boards = [2,3,5,1,1,3,4,5,2]        \n",
    "\n",
    "build_fence(boards)\n",
    "update_image(image)"
   ]
  },
  {
   "cell_type": "code",
   "execution_count": 4,
   "metadata": {},
   "outputs": [],
   "source": [
    "def execute_commands(type_command, img_target, number):\n",
    "    if type_command == 'COLUMN':\n",
    "        img_target[:, number] = 1\n",
    "        return img_target\n",
    "    elif type_command == 'ROW':\n",
    "        img_target[number, :] = 1\n",
    "        return img_target\n",
    "    else:\n",
    "        raise ValueError('Invalid type command')"
   ]
  },
  {
   "cell_type": "code",
   "execution_count": 5,
   "metadata": {},
   "outputs": [
    {
     "data": {
      "image/png": "[encoded data removed]",
      "text/plain": [
       "<Figure size 288x288 with 1 Axes>"
      ]
     },
     "metadata": {
      "needs_background": "light"
     },
     "output_type": "display_data"
    },
    {
     "data": {
      "image/png": "[encoded data removed]",
      "text/plain": [
       "<Figure size 288x288 with 1 Axes>"
      ]
     },
     "metadata": {
      "needs_background": "light"
     },
     "output_type": "display_data"
    }
   ],
   "source": [
    "import time\n",
    "\n",
    "commands = [\n",
    "    {\n",
    "        'type_command': 'COLUMN',\n",
    "        'number': 2,\n",
    "    },\n",
    "    {\n",
    "        'type_command': 'ROW',\n",
    "        'number': 1,\n",
    "    }\n",
    "]\n",
    "\n",
    "for command in commands:\n",
    "    image = execute_commands(\n",
    "        command['type_command'],\n",
    "        image,\n",
    "        command['number']\n",
    "    )\n",
    "    time.sleep(0.5)\n",
    "    update_image(image)"
   ]
  }
 ],
 "metadata": {
  "kernelspec": {
   "display_name": "Python 3",
   "language": "python",
   "name": "python3"
  },
  "language_info": {
   "codemirror_mode": {
    "name": "ipython",
    "version": 3
   },
   "file_extension": ".py",
   "mimetype": "text/x-python",
   "name": "python",
   "nbconvert_exporter": "python",
   "pygments_lexer": "ipython3",
   "version": "3.6.2"
  }
 },
 "nbformat": 4,
 "nbformat_minor": 2
}
