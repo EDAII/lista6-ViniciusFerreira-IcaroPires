{
 "cells": [
  {
   "cell_type": "markdown",
   "metadata": {},
   "source": [
    "#include <bits/stdc++.h>\n",
    "\n",
    "using namespace std;\n",
    "\n",
    "vector<int> fence;\n",
    "\n",
    "int solve(int l, int r, int h){\n",
    "    if (l > r) return 0;\n",
    "\n",
    "    int min_idx = min_element(fence.begin() + l, fence.begin() + r + 1) - fence.begin();\n",
    "\n",
    "    int strokes_local  = fence[min_idx] - h;\n",
    "    int strokes_l = solve(l, min_idx-1, fence[min_idx]);\n",
    "    int strokes_r = solve(min_idx+1, r, fence[min_idx]);\n",
    "    int strokes = strokes_local + strokes_r + strokes_l;\n",
    "\n",
    "    int vertical_strokes = r - l + 1;\n",
    "\n",
    "    return min(vertical_strokes, strokes);\n",
    "}\n",
    "\n",
    "int main(){\n",
    "    ios_base::sync_with_stdio(false);\n",
    "    int n; cin >> n;\n",
    "\n",
    "    fence = vector<int>(n+1);\n",
    "    for(int q = 1; q <= n; ++q)\n",
    "        cin >> fence[q];\n",
    "\n",
    "    cout <<  solve(1, n, 0) << endl;\n",
    "\n",
    "    return 0;\n",
    "}"
   ]
  },
  {
   "cell_type": "code",
   "execution_count": 1,
   "metadata": {
    "scrolled": true
   },
   "outputs": [
    {
     "name": "stdout",
     "output_type": "stream",
     "text": [
      "9\n",
      "2 3 5 1 1 3 4 5 2\n",
      "Mínimo de movimentos: 8\n"
     ]
    }
   ],
   "source": [
    "fence = [0]\n",
    "enumerated_fence = []\n",
    "commands = []\n",
    "step = {}\n",
    "\n",
    "def solve(l, r, h):\n",
    "    global fence\n",
    "    global commands\n",
    "    global enumerated_fence\n",
    "\n",
    "    if l > r:\n",
    "        return 0\n",
    "\n",
    "    min_idx = min(enumerated_fence[l:r+1], key=lambda p: p[1])[0]\n",
    "\n",
    "    h_strokes_l = solve(l, min_idx - 1, fence[min_idx])\n",
    "    h_strokes_r = solve(min_idx + 1, r, fence[min_idx])\n",
    "    h_strokes_local = fence[min_idx] - h\n",
    "\n",
    "    h_strokes = h_strokes_local + h_strokes_l + h_strokes_r\n",
    "    v_strokes = r - l + 1\n",
    "\n",
    "    if v_strokes <= h_strokes:\n",
    "        step[(l, r, h)] = 'vertical'\n",
    "        return v_strokes\n",
    "    else:\n",
    "        step[(l, r, h)] = 'horizontal'\n",
    "        return h_strokes\n",
    "\n",
    "def reconstruct(l, r, h):\n",
    "    global fence\n",
    "    global commands\n",
    "    global enumerated_fence\n",
    "\n",
    "    if l > r:\n",
    "        return\n",
    "\n",
    "    min_idx = min(enumerated_fence[l:r+1], key=lambda p: p[1])[0]\n",
    "\n",
    "    cur_step = step[(l, r, h)]\n",
    "    if cur_step == 'vertical':\n",
    "        for number in range(l, r + 1):\n",
    "            commands += [{'type_command': 'vertical', 'number': number-1}]\n",
    "    else:\n",
    "        for number in range(h + 1, fence[min_idx] + 1):\n",
    "            commands += [{'type_command': 'horizontal', 'number': number-1, 'begin': l-1, 'end': r-1}]\n",
    "\n",
    "        reconstruct(l, min_idx - 1, fence[min_idx])\n",
    "        reconstruct(min_idx + 1, r, fence[min_idx])\n",
    "\n",
    "n = int(input())\n",
    "fence += [int(x) for x in input().split()]\n",
    "enumerated_fence = list(enumerate(fence))\n",
    "\n",
    "print('Mínimo de movimentos:', solve(1, n, 0))\n",
    "reconstruct(1, n, 0)"
   ]
  },
  {
   "cell_type": "code",
   "execution_count": 2,
   "metadata": {},
   "outputs": [],
   "source": [
    "import matplotlib.pyplot as plt\n",
    "\n",
    "fence = fence[1:]\n",
    "\n",
    "nrows, ncols = max(fence), len(fence)\n",
    "\n",
    "def update_image(image):\n",
    "    row_labels = range(nrows, 0, -1)\n",
    "    col_labels = range(1, ncols+1)\n",
    "    plt.matshow(image)\n",
    "    plt.xticks(range(ncols), col_labels)\n",
    "    plt.yticks(range(nrows), row_labels)\n",
    "    plt.show()"
   ]
  },
  {
   "cell_type": "code",
   "execution_count": 3,
   "metadata": {},
   "outputs": [],
   "source": [
    "def build_fence(list_height_boards):\n",
    "    for counter, height in enumerate(list_height_boards):\n",
    "        image[(nrows-height):nrows, counter] = 0.5"
   ]
  },
  {
   "cell_type": "code",
   "execution_count": 4,
   "metadata": {},
   "outputs": [
    {
     "data": {
      "image/png": "[encoded data removed]",
      "text/plain": [
       "<Figure size 518.4x288 with 1 Axes>"
      ]
     },
     "metadata": {
      "needs_background": "light"
     },
     "output_type": "display_data"
    }
   ],
   "source": [
    "import numpy as np\n",
    "\n",
    "image = np.zeros(nrows*ncols)\n",
    "\n",
    "image = image.reshape((nrows, ncols))\n",
    "\n",
    "build_fence(fence)\n",
    "update_image(image)"
   ]
  },
  {
   "cell_type": "code",
   "execution_count": 5,
   "metadata": {},
   "outputs": [],
   "source": [
    "def execute_commands(type_command, img_target, number, begin=0, end=ncols):\n",
    "    if type_command == 'vertical':\n",
    "        img_target[:, number] = img_target[:, number] > 0\n",
    "        print(\"O comando executado foi pintar na vertical no índice {}\".format(number))\n",
    "\n",
    "    elif type_command == 'horizontal':\n",
    "        img_target[nrows - number - 1, begin:end] = img_target[nrows - number - 1, begin:end] > 0\n",
    "        print(\"O comando executado foi pintar na horizontal no índice {} da coluna {} até {}\".format(number, begin, end))\n",
    "\n",
    "    else:\n",
    "        raise ValueError('Invalid type command')\n",
    "\n",
    "    return img_target"
   ]
  },
  {
   "cell_type": "code",
   "execution_count": 6,
   "metadata": {},
   "outputs": [
    {
     "name": "stdout",
     "output_type": "stream",
     "text": [
      "O comando executado foi pintar na horizontal no índice 0 da coluna 0 até 9\n"
     ]
    },
    {
     "data": {
      "image/png": "[encoded data removed]",
      "text/plain": [
       "<Figure size 518.4x288 with 1 Axes>"
      ]
     },
     "metadata": {
      "needs_background": "light"
     },
     "output_type": "display_data"
    },
    {
     "name": "stdout",
     "output_type": "stream",
     "text": [
      "O comando executado foi pintar na vertical no índice 0\n"
     ]
    },
    {
     "data": {
      "image/png": "[encoded data removed]",
      "text/plain": [
       "<Figure size 518.4x288 with 1 Axes>"
      ]
     },
     "metadata": {
      "needs_background": "light"
     },
     "output_type": "display_data"
    },
    {
     "name": "stdout",
     "output_type": "stream",
     "text": [
      "O comando executado foi pintar na vertical no índice 1\n"
     ]
    },
    {
     "data": {
      "image/png": "[encoded data removed]",
      "text/plain": [
       "<Figure size 518.4x288 with 1 Axes>"
      ]
     },
     "metadata": {
      "needs_background": "light"
     },
     "output_type": "display_data"
    },
    {
     "name": "stdout",
     "output_type": "stream",
     "text": [
      "O comando executado foi pintar na vertical no índice 2\n"
     ]
    },
    {
     "data": {
      "image/png": "[encoded data removed]",
      "text/plain": [
       "<Figure size 518.4x288 with 1 Axes>"
      ]
     },
     "metadata": {
      "needs_background": "light"
     },
     "output_type": "display_data"
    },
    {
     "name": "stdout",
     "output_type": "stream",
     "text": [
      "O comando executado foi pintar na vertical no índice 5\n"
     ]
    },
    {
     "data": {
      "image/png": "[encoded data removed]",
      "text/plain": [
       "<Figure size 518.4x288 with 1 Axes>"
      ]
     },
     "metadata": {
      "needs_background": "light"
     },
     "output_type": "display_data"
    },
    {
     "name": "stdout",
     "output_type": "stream",
     "text": [
      "O comando executado foi pintar na vertical no índice 6\n"
     ]
    },
    {
     "data": {
      "image/png": "[encoded data removed]",
      "text/plain": [
       "<Figure size 518.4x288 with 1 Axes>"
      ]
     },
     "metadata": {
      "needs_background": "light"
     },
     "output_type": "display_data"
    },
    {
     "name": "stdout",
     "output_type": "stream",
     "text": [
      "O comando executado foi pintar na vertical no índice 7\n"
     ]
    },
    {
     "data": {
      "image/png": "[encoded data removed]",
      "text/plain": [
       "<Figure size 518.4x288 with 1 Axes>"
      ]
     },
     "metadata": {
      "needs_background": "light"
     },
     "output_type": "display_data"
    },
    {
     "name": "stdout",
     "output_type": "stream",
     "text": [
      "O comando executado foi pintar na vertical no índice 8\n"
     ]
    },
    {
     "data": {
      "image/png": "[encoded data removed]",
      "text/plain": [
       "<Figure size 518.4x288 with 1 Axes>"
      ]
     },
     "metadata": {
      "needs_background": "light"
     },
     "output_type": "display_data"
    }
   ],
   "source": [
    "\n",
    "for command in commands:\n",
    "    \n",
    "    image = execute_commands(\n",
    "        command['type_command'],\n",
    "        image,\n",
    "        command['number'],\n",
    "        command.get('begin', 0),\n",
    "        command.get('end', ncols)+1\n",
    "    )\n",
    "    update_image(image)"
   ]
  }
 ],
 "metadata": {
  "kernelspec": {
   "display_name": "Python 3",
   "language": "python",
   "name": "python3"
  },
  "language_info": {
   "codemirror_mode": {
    "name": "ipython",
    "version": 3
   },
   "file_extension": ".py",
   "mimetype": "text/x-python",
   "name": "python",
   "nbconvert_exporter": "python",
   "pygments_lexer": "ipython3",
   "version": "3.6.2"
  }
 },
 "nbformat": 4,
 "nbformat_minor": 2
}
